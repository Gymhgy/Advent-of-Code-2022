{
 "cells": [
  {
   "cell_type": "code",
   "execution_count": 1,
   "metadata": {},
   "outputs": [
    {
     "data": {
      "text/plain": [
       "5208"
      ]
     },
     "execution_count": 1,
     "metadata": {},
     "output_type": "execute_result"
    }
   ],
   "source": [
    "import functools\n",
    "\n",
    "s = open('day13.txt').read().split(\"\\n\\n\")\n",
    "g = [[eval(j) for j in i.split('\\n')] for i in s]\n",
    "\n",
    "id = 0\n",
    "\n",
    "\n",
    "def comp(a, b):\n",
    "  ta = type(a)\n",
    "  tb = type(b)\n",
    "  if ta is int and tb is int: return 0 if a == b else -1 if a > b else 1\n",
    "  if ta is list and tb is list:\n",
    "    m = min(len(a), len(b))\n",
    "    for i in range(m):\n",
    "      z = comp(a[i], b[i])\n",
    "      if z != 0: return z\n",
    "\n",
    "    if len(a) == len(b): return 0\n",
    "    if len(a) == m: return 1\n",
    "    if len(b) == m: return -1\n",
    "\n",
    "  if ta is list and tb is int: return comp(a,[b])\n",
    "  if ta is int and tb is list: return comp([a], b)\n",
    "\n",
    "u = 0\n",
    "\n",
    "#print(comp([7,7,7,7] ,[7,7,7]))\n",
    "\n",
    "for a,b in g:\n",
    "  id += 1\n",
    "  if comp(a,b) == 1: u+=id\n",
    "\n",
    "u"
   ]
  },
  {
   "cell_type": "code",
   "execution_count": 2,
   "metadata": {},
   "outputs": [
    {
     "name": "stdout",
     "output_type": "stream",
     "text": [
      "25792\n"
     ]
    }
   ],
   "source": [
    "k = [item for sublist in g for item in sublist] + [ [[6]], [[2]] ]\n",
    "l = sorted(k, key = functools.cmp_to_key(comp))[::-1]\n",
    "print((1+l.index([[2]])) * (1+l.index([[6]])))"
   ]
  }
 ],
 "metadata": {
  "kernelspec": {
   "display_name": "Python 3",
   "language": "python",
   "name": "python3"
  },
  "language_info": {
   "codemirror_mode": {
    "name": "ipython",
    "version": 3
   },
   "file_extension": ".py",
   "mimetype": "text/x-python",
   "name": "python",
   "nbconvert_exporter": "python",
   "pygments_lexer": "ipython3",
   "version": "3.10.5 (tags/v3.10.5:f377153, Jun  6 2022, 16:14:13) [MSC v.1929 64 bit (AMD64)]"
  },
  "orig_nbformat": 4,
  "vscode": {
   "interpreter": {
    "hash": "aeda0abb87b6500c45f6df8db8bf0d8273bdffb927d4b74ba0fb979201aa6e94"
   }
  }
 },
 "nbformat": 4,
 "nbformat_minor": 2
}
